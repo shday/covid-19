{
 "cells": [
  {
   "cell_type": "markdown",
   "metadata": {},
   "source": [
    "# Estimating COVID-19's $R_t$\n",
    "\n",
    "The $R_t$, or effective reproduction number, is the number of people who become infected per infectious person at time $t$. The most well-known version of this number is the basic reproduction number: $R_0$ when $t=0$. While $R_0$ reflects the infectivility at the begining of an epidemic, before any control measures have been enacted, the $R_t$ will change over time as these measures take effect. In general, an $R_t$ below 1 means that the situation is under control.\n",
    "\n",
    "# $R_t$ for COVID-19 in Canadian Provinces\n",
    "![Provicial Rts](provincial_r_t.png)\n",
    "\n",
    "Note that PEI did not have enough cases for analysis.\n",
    "\n",
    "# $R_t$ for COVID-19 in Canadian Heath Regions\n",
    "![City Rts](health_region_r_t.png)\n",
    "\n",
    "The charts above were genereated by adapting an [analysis of US data](https://github.com/k-sys/covid-19/blob/master/Realtime%20R0.ipynb). The adapted code can be found [here](https://github.com/shday/covid-19/blob/master/Realtime%20R0.ipynb)."
   ]
  }
 ],
 "metadata": {
  "kernelspec": {
   "display_name": "Python 3",
   "language": "python",
   "name": "python3"
  },
  "language_info": {
   "codemirror_mode": {
    "name": "ipython",
    "version": 3
   },
   "file_extension": ".py",
   "mimetype": "text/x-python",
   "name": "python",
   "nbconvert_exporter": "python",
   "pygments_lexer": "ipython3",
   "version": "3.8.2"
  }
 },
 "nbformat": 4,
 "nbformat_minor": 4
}
